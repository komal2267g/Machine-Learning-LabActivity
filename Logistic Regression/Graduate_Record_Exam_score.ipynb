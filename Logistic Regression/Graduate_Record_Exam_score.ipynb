{
  "nbformat": 4,
  "nbformat_minor": 0,
  "metadata": {
    "colab": {
      "provenance": []
    },
    "kernelspec": {
      "name": "python3",
      "display_name": "Python 3"
    },
    "language_info": {
      "name": "python"
    }
  },
  "cells": [
    {
      "cell_type": "code",
      "execution_count": 1,
      "metadata": {
        "colab": {
          "base_uri": "https://localhost:8080/",
          "height": 819
        },
        "id": "I8o_LGA4-2EP",
        "outputId": "f695a2d5-ec1b-428d-8ac6-0a3e966b7a25"
      },
      "outputs": [
        {
          "output_type": "stream",
          "name": "stdout",
          "text": [
            "First 5 rows of dataset:\n",
            "\n",
            "   admit  gre   gpa  rank\n",
            "0      0  380  3.61     3\n",
            "1      1  660  3.67     3\n",
            "2      1  800  4.00     1\n",
            "3      1  640  3.19     4\n",
            "4      0  520  2.93     4\n",
            "\n",
            "Shapes of train/test sets:\n",
            "X_train: (320, 3)\n",
            "y_train: (320,)\n",
            "X_test: (80, 3)\n",
            "y_test: (80,)\n",
            "\n",
            "Confusion Matrix:\n",
            " [[50  4]\n",
            " [23  3]]\n",
            "Accuracy Score: 0.6625\n",
            "Accuracy in Percentage: 66 %\n"
          ]
        },
        {
          "output_type": "display_data",
          "data": {
            "text/plain": [
              "<Figure size 640x480 with 2 Axes>"
            ],
            "image/png": "[encoded data removed]"
          },
          "metadata": {}
        }
      ],
      "source": [
        "# Logistic Regression on Graduate Admission dataset\n",
        "\n",
        "# 1️⃣ Import required libraries\n",
        "import pandas as pd\n",
        "from sklearn.model_selection import train_test_split\n",
        "from sklearn.linear_model import LogisticRegression\n",
        "from sklearn import metrics\n",
        "import seaborn as sns\n",
        "import matplotlib.pyplot as plt\n",
        "\n",
        "# 2️⃣ Load dataset from URL\n",
        "url = \"https://stats.idre.ucla.edu/stat/data/binary.csv\"\n",
        "data = pd.read_csv(url)\n",
        "\n",
        "print(\"First 5 rows of dataset:\\n\")\n",
        "print(data.head())\n",
        "\n",
        "# 3️⃣ Define independent (X) and dependent (y) variables\n",
        "X = data[['gre', 'gpa', 'rank']]\n",
        "y = data['admit']\n",
        "\n",
        "# 4️⃣ Split dataset into training and testing sets\n",
        "X_train, X_test, y_train, y_test = train_test_split(\n",
        "    X, y, test_size=0.2, random_state=5\n",
        ")\n",
        "\n",
        "print(\"\\nShapes of train/test sets:\")\n",
        "print(\"X_train:\", X_train.shape)\n",
        "print(\"y_train:\", y_train.shape)\n",
        "print(\"X_test:\", X_test.shape)\n",
        "print(\"y_test:\", y_test.shape)\n",
        "\n",
        "# 5️⃣ Train Logistic Regression model\n",
        "model = LogisticRegression(max_iter=1000)\n",
        "model.fit(X_train, y_train)\n",
        "\n",
        "# 6️⃣ Make predictions on test set\n",
        "y_pred = model.predict(X_test)\n",
        "\n",
        "# 7️⃣ Evaluate model\n",
        "conf_mat = metrics.confusion_matrix(y_test, y_pred)\n",
        "accuracy = metrics.accuracy_score(y_test, y_pred)\n",
        "\n",
        "print(\"\\nConfusion Matrix:\\n\", conf_mat)\n",
        "print(\"Accuracy Score:\", accuracy)\n",
        "print(\"Accuracy in Percentage:\", int(accuracy*100), \"%\")\n",
        "\n",
        "# 8️⃣ Visualize Confusion Matrix with Heatmap\n",
        "sns.heatmap(pd.crosstab(y_test, y_pred), annot=True, cmap='magma')\n",
        "plt.title(\"Confusion Matrix Heatmap\")\n",
        "plt.xlabel(\"Predicted\")\n",
        "plt.ylabel(\"Actual\")\n",
        "plt.show()\n"
      ]
    }
  ]
}