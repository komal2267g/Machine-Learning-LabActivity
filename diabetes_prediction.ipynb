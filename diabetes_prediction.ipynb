{
  "nbformat": 4,
  "nbformat_minor": 0,
  "metadata": {
    "colab": {
      "provenance": [],
      "authorship_tag": "ABX9TyPbxLCgdVtmvzcGKojtOty6",
      "include_colab_link": true
    },
    "kernelspec": {
      "name": "python3",
      "display_name": "Python 3"
    },
    "language_info": {
      "name": "python"
    }
  },
  "cells": [
    {
      "cell_type": "markdown",
      "metadata": {
        "id": "view-in-github",
        "colab_type": "text"
      },
      "source": [
        "<a href=\"https://colab.research.google.com/github/komal2267g/Machine-Learning-LabActivity/blob/main/diabetes_prediction.ipynb\" target=\"_parent\"><img src=\"https://colab.research.google.com/assets/colab-badge.svg\" alt=\"Open In Colab\"/></a>"
      ]
    },
    {
      "cell_type": "code",
      "source": [
        "# 1️⃣ Import Required Libraries\n",
        "import pandas as pd\n",
        "from sklearn.model_selection import train_test_split\n",
        "from sklearn.linear_model import LogisticRegression\n",
        "from sklearn import metrics\n",
        "import seaborn as sn\n",
        "import matplotlib.pyplot as plt\n",
        "\n",
        "# 2️⃣ Load Dataset from public URL\n",
        "col_names = ['pregnant','glucose','bp','skin','insulin','bmi','pedigree','age','label']\n",
        "url = \"https://raw.githubusercontent.com/jbrownlee/Datasets/master/pima-indians-diabetes.data.csv\"\n",
        "data = pd.read_csv(url, header=None, names=col_names)\n",
        "\n",
        "# 3️⃣ Check Dataset\n",
        "print(data.shape)\n",
        "data.head()\n",
        "\n",
        "# 4️⃣ Check for null values\n",
        "print(data.isnull().sum())\n",
        "\n",
        "# 5️⃣ Assign dependent and independent variables\n",
        "feature_cols = ['pregnant','insulin','bmi','age','glucose','bp','pedigree']\n",
        "X = data[feature_cols]\n",
        "y = data.label\n",
        "\n",
        "# 6️⃣ Split dataset into Training and Testing\n",
        "X_train, X_test, y_train, y_test = train_test_split(X, y, test_size=0.2, random_state=5)\n",
        "print(X_train.shape, y_train.shape, X_test.shape, y_test.shape)\n",
        "\n",
        "# 7️⃣ Fit Logistic Regression Model\n",
        "model = LogisticRegression(solver='lbfgs', max_iter=1000)\n",
        "model.fit(X_train, y_train)\n",
        "\n",
        "# 8️⃣ Make Predictions\n",
        "y_pred = model.predict(X_test)\n",
        "\n",
        "# 9️⃣ Evaluation Metrics\n",
        "conf_mat = metrics.confusion_matrix(y_test, y_pred)\n",
        "print('Confusion Matrix:\\n', conf_mat)\n",
        "\n",
        "accuracy_score = metrics.accuracy_score(y_test, y_pred)\n",
        "print('Accuracy Score :', accuracy_score)\n",
        "print('Accuracy in Percentage:', int(accuracy_score*100), '%')\n",
        "\n",
        "# 10️⃣ Confusion Matrix Heatmap\n",
        "conf_mat_df = pd.crosstab(y_test, y_pred, rownames=['Actual'], colnames=['Predicted'])\n",
        "sn.heatmap(conf_mat_df, annot=True, cmap=\"Blues\")\n",
        "plt.show()\n"
      ],
      "metadata": {
        "colab": {
          "base_uri": "https://localhost:8080/",
          "height": 744
        },
        "id": "fOcBu-bX92ad",
        "outputId": "8c0a3927-f460-4938-c323-a9058597b282"
      },
      "execution_count": 9,
      "outputs": [
        {
          "output_type": "stream",
          "name": "stdout",
          "text": [
            "(768, 9)\n",
            "pregnant    0\n",
            "glucose     0\n",
            "bp          0\n",
            "skin        0\n",
            "insulin     0\n",
            "bmi         0\n",
            "pedigree    0\n",
            "age         0\n",
            "label       0\n",
            "dtype: int64\n",
            "(614, 7) (614,) (154, 7) (154,)\n",
            "Confusion Matrix:\n",
            " [[88 12]\n",
            " [19 35]]\n",
            "Accuracy Score : 0.7987012987012987\n",
            "Accuracy in Percentage: 79 %\n"
          ]
        },
        {
          "output_type": "display_data",
          "data": {
            "text/plain": [
              "<Figure size 640x480 with 2 Axes>"
            ],
            "image/png": "[encoded data removed]"
          },
          "metadata": {}
        }
      ]
    }
  ]
}